{
 "cells": [
  {
   "cell_type": "code",
   "execution_count": 52,
   "id": "e10cfd19-ba14-4874-9616-6a18ed65cf94",
   "metadata": {},
   "outputs": [
    {
     "ename": "KeyError",
     "evalue": "'a'",
     "output_type": "error",
     "traceback": [
      "\u001b[1;31m---------------------------------------------------------------------------\u001b[0m",
      "\u001b[1;31mKeyError\u001b[0m                                  Traceback (most recent call last)",
      "Input \u001b[1;32mIn [52]\u001b[0m, in \u001b[0;36m<cell line: 37>\u001b[1;34m()\u001b[0m\n\u001b[0;32m     36\u001b[0m string_out\u001b[38;5;241m=\u001b[39m\u001b[38;5;124m'\u001b[39m\u001b[38;5;124m'\u001b[39m\n\u001b[0;32m     37\u001b[0m \u001b[38;5;28;01mfor\u001b[39;00m char \u001b[38;5;129;01min\u001b[39;00m string_in:\n\u001b[1;32m---> 38\u001b[0m     string_out\u001b[38;5;241m+\u001b[39m\u001b[38;5;241m=\u001b[39m\u001b[43mchar_dict\u001b[49m\u001b[43m[\u001b[49m\u001b[43mchar\u001b[49m\u001b[43m]\u001b[49m\n\u001b[0;32m     40\u001b[0m \u001b[38;5;28mprint\u001b[39m(\u001b[38;5;28mlen\u001b[39m(char_dict\u001b[38;5;241m.\u001b[39mkeys()),\u001b[38;5;28mlen\u001b[39m(string_out))\n\u001b[0;32m     41\u001b[0m \u001b[38;5;28;01mfor\u001b[39;00m key,val \u001b[38;5;129;01min\u001b[39;00m char_dict\u001b[38;5;241m.\u001b[39mitems():\n",
      "\u001b[1;31mKeyError\u001b[0m: 'a'"
     ]
    }
   ],
   "source": [
    "string_in='abacabad'\n",
    "\n",
    "val_and_F=dict()\n",
    "\n",
    "for val in string_in:\n",
    "    val_and_F[val]=val_and_F.get(val, 0)+1\n",
    "val_and_F=sorted(list(zip(val_and_F.keys(),val_and_F.values())), key=lambda x: x[1])\n",
    "\n",
    "char_dict=dict()\n",
    "N=len(val_and_F)\n",
    "for k in range(N+1,2*N-1):\n",
    "    key1=val_and_F.pop(0)\n",
    "    key2=val_and_F.pop(0)\n",
    "    new_value=key1[1]+key2[1]\n",
    "    new_key=key1[0]+key2[0]\n",
    "    val_and_F.append((new_key,new_value))\n",
    "    val_and_F=sorted(val_and_F, key=lambda x: x[1])\n",
    "    if  len(key1[0])==1:\n",
    "        char_dict[key1[0]]=str(char_dict.setdefault(key1[0],\"\"))+\"0\"\n",
    "    if  len(key2[0])==1:\n",
    "        char_dict[key2[0]]=str(char_dict.setdefault(key2[0],\"\"))+\"1\"\n",
    "    for char in char_dict.keys():\n",
    "        if char in key1[0] :\n",
    "            char_dict[char]=char_dict[char]+'1'\n",
    "        elif char in key2[0]:\n",
    "            char_dict[char]=char_dict[char]+'0'\n",
    "key1=val_and_F.pop(0)\n",
    "for char in char_dict.keys():\n",
    "        if char in key1:\n",
    "            char_dict[char]+='0'\n",
    "\n",
    "if len(char_dict)<2:\n",
    "    char_dict[string_in[0]]='0'\n",
    "for key in char_dict.keys():\n",
    "    char_dict[key]=char_dict[key][::-1]    \n",
    "string_out=''\n",
    "for char in string_in:\n",
    "    string_out+=char_dict[char]\n",
    "    \n",
    "print(len(char_dict.keys()),len(string_out))\n",
    "for key,val in char_dict.items():\n",
    "    print(f\"{key}: {val}\")\n",
    "print(string_out)"
   ]
  },
  {
   "cell_type": "code",
   "execution_count": null,
   "id": "68d10182-374e-4a37-b217-0764107e5159",
   "metadata": {},
   "outputs": [],
   "source": []
  }
 ],
 "metadata": {
  "kernelspec": {
   "display_name": "Python 3 (ipykernel)",
   "language": "python",
   "name": "python3"
  },
  "language_info": {
   "codemirror_mode": {
    "name": "ipython",
    "version": 3
   },
   "file_extension": ".py",
   "mimetype": "text/x-python",
   "name": "python",
   "nbconvert_exporter": "python",
   "pygments_lexer": "ipython3",
   "version": "3.9.13"
  }
 },
 "nbformat": 4,
 "nbformat_minor": 5
}
