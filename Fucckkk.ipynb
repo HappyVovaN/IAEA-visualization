{
 "cells": [
  {
   "cell_type": "code",
   "execution_count": 52,
   "id": "e10cfd19-ba14-4874-9616-6a18ed65cf94",
   "metadata": {},
   "outputs": [
    {
     "ename": "KeyError",
     "evalue": "'a'",
     "output_type": "error",
     "traceback": [
      "\u001b[1;31m---------------------------------------------------------------------------\u001b[0m",
      "\u001b[1;31mKeyError\u001b[0m                                  Traceback (most recent call last)",
      "Input \u001b[1;32mIn [52]\u001b[0m, in \u001b[0;36m<cell line: 37>\u001b[1;34m()\u001b[0m\n\u001b[0;32m     36\u001b[0m string_out\u001b[38;5;241m=\u001b[39m\u001b[38;5;124m'\u001b[39m\u001b[38;5;124m'\u001b[39m\n\u001b[0;32m     37\u001b[0m \u001b[38;5;28;01mfor\u001b[39;00m char \u001b[38;5;129;01min\u001b[39;00m string_in:\n\u001b[1;32m---> 38\u001b[0m     string_out\u001b[38;5;241m+\u001b[39m\u001b[38;5;241m=\u001b[39m\u001b[43mchar_dict\u001b[49m\u001b[43m[\u001b[49m\u001b[43mchar\u001b[49m\u001b[43m]\u001b[49m\n\u001b[0;32m     40\u001b[0m \u001b[38;5;28mprint\u001b[39m(\u001b[38;5;28mlen\u001b[39m(char_dict\u001b[38;5;241m.\u001b[39mkeys()),\u001b[38;5;28mlen\u001b[39m(string_out))\n\u001b[0;32m     41\u001b[0m \u001b[38;5;28;01mfor\u001b[39;00m key,val \u001b[38;5;129;01min\u001b[39;00m char_dict\u001b[38;5;241m.\u001b[39mitems():\n",
      "\u001b[1;31mKeyError\u001b[0m: 'a'"
     ]
    }
   ],
   "source": [
    "string_in='abacabad'\n",
    "\n",
    "val_and_F=dict()\n",
    "\n",
    "for val in string_in:\n",
    "    val_and_F[val]=val_and_F.get(val, 0)+1\n",
    "val_and_F=sorted(list(zip(val_and_F.keys(),val_and_F.values())), key=lambda x: x[1])\n",
    "\n",
    "char_dict=dict()\n",
    "N=len(val_and_F)\n",
    "for k in range(N+1,2*N-1):\n",
    "    key1=val_and_F.pop(0)\n",
    "    key2=val_and_F.pop(0)\n",
    "    new_value=key1[1]+key2[1]\n",
    "    new_key=key1[0]+key2[0]\n",
    "    val_and_F.append((new_key,new_value))\n",
    "    val_and_F=sorted(val_and_F, key=lambda x: x[1])\n",
    "    if  len(key1[0])==1:\n",
    "        char_dict[key1[0]]=str(char_dict.setdefault(key1[0],\"\"))+\"0\"\n",
    "    if  len(key2[0])==1:\n",
    "        char_dict[key2[0]]=str(char_dict.setdefault(key2[0],\"\"))+\"1\"\n",
    "    for char in char_dict.keys():\n",
    "        if char in key1[0] :\n",
    "            char_dict[char]=char_dict[char]+'1'\n",
    "        elif char in key2[0]:\n",
    "            char_dict[char]=char_dict[char]+'0'\n",
    "key1=val_and_F.pop(0)\n",
    "for char in char_dict.keys():\n",
    "        if char in key1:\n",
    "            char_dict[char]+='0'\n",
    "\n",
    "if len(char_dict)<2:\n",
    "    char_dict[string_in[0]]='0'\n",
    "for key in char_dict.keys():\n",
    "    char_dict[key]=char_dict[key][::-1]    \n",
    "string_out=''\n",
    "for char in string_in:\n",
    "    string_out+=char_dict[char]\n",
    "    \n",
    "print(len(char_dict.keys()),len(string_out))\n",
    "for key,val in char_dict.items():\n",
    "    print(f\"{key}: {val}\")\n",
    "print(string_out)"
   ]
  },
  {
   "cell_type": "code",
   "execution_count": 1,
   "id": "68d10182-374e-4a37-b217-0764107e5159",
   "metadata": {},
   "outputs": [
    {
     "name": "stdin",
     "output_type": "stream",
     "text": [
      " 4 14 a: 0 b: 10 c: 110 d: 111 01001100100111\n"
     ]
    },
    {
     "ename": "ValueError",
     "evalue": "invalid literal for int() with base 10: 'a:'",
     "output_type": "error",
     "traceback": [
      "\u001b[1;31m---------------------------------------------------------------------------\u001b[0m",
      "\u001b[1;31mValueError\u001b[0m                                Traceback (most recent call last)",
      "Input \u001b[1;32mIn [1]\u001b[0m, in \u001b[0;36m<cell line: 2>\u001b[1;34m()\u001b[0m\n\u001b[0;32m      1\u001b[0m \u001b[38;5;66;03m# put your python code here\u001b[39;00m\n\u001b[1;32m----> 2\u001b[0m k,l\u001b[38;5;241m=\u001b[39m[\u001b[38;5;28mint\u001b[39m(var) \u001b[38;5;28;01mfor\u001b[39;00m var \u001b[38;5;129;01min\u001b[39;00m \u001b[38;5;28minput\u001b[39m()\u001b[38;5;241m.\u001b[39msplit()]\n\u001b[0;32m      3\u001b[0m char_dict\u001b[38;5;241m=\u001b[39m\u001b[38;5;28mdict\u001b[39m()\n\u001b[0;32m      4\u001b[0m \u001b[38;5;28;01mfor\u001b[39;00m i \u001b[38;5;129;01min\u001b[39;00m \u001b[38;5;28mrange\u001b[39m(k):\n",
      "Input \u001b[1;32mIn [1]\u001b[0m, in \u001b[0;36m<listcomp>\u001b[1;34m(.0)\u001b[0m\n\u001b[0;32m      1\u001b[0m \u001b[38;5;66;03m# put your python code here\u001b[39;00m\n\u001b[1;32m----> 2\u001b[0m k,l\u001b[38;5;241m=\u001b[39m[\u001b[38;5;28;43mint\u001b[39;49m\u001b[43m(\u001b[49m\u001b[43mvar\u001b[49m\u001b[43m)\u001b[49m \u001b[38;5;28;01mfor\u001b[39;00m var \u001b[38;5;129;01min\u001b[39;00m \u001b[38;5;28minput\u001b[39m()\u001b[38;5;241m.\u001b[39msplit()]\n\u001b[0;32m      3\u001b[0m char_dict\u001b[38;5;241m=\u001b[39m\u001b[38;5;28mdict\u001b[39m()\n\u001b[0;32m      4\u001b[0m \u001b[38;5;28;01mfor\u001b[39;00m i \u001b[38;5;129;01min\u001b[39;00m \u001b[38;5;28mrange\u001b[39m(k):\n",
      "\u001b[1;31mValueError\u001b[0m: invalid literal for int() with base 10: 'a:'"
     ]
    }
   ],
   "source": [
    "# put your python code here\n",
    "k,l=[int(var) for var in input().split()]\n",
    "char_dict=dict()\n",
    "for i in range(k):\n",
    "    char,code=input().split(\": \")\n",
    "    char_dict[code]=char\n",
    "in_string=input()\n",
    "max_length_code=max(list(map(lambda x: len(x),char_dict.keys())))\n",
    "print(max_length_code)\n",
    "while len(in_string)>1:\n",
    "    length=0\n",
    "    for i in range(1,max_length_code):\n",
    "        if in_string[0:i] in char_dict.keys():\n",
    "            in_string=in_string[i+1:]\n",
    "            print(in_string)\n",
    "            break"
   ]
  },
  {
   "cell_type": "code",
   "execution_count": null,
   "id": "88c534aa-7a30-4f83-84bf-a2eb63994f1f",
   "metadata": {},
   "outputs": [],
   "source": []
  }
 ],
 "metadata": {
  "kernelspec": {
   "display_name": "Python 3 (ipykernel)",
   "language": "python",
   "name": "python3"
  },
  "language_info": {
   "codemirror_mode": {
    "name": "ipython",
    "version": 3
   },
   "file_extension": ".py",
   "mimetype": "text/x-python",
   "name": "python",
   "nbconvert_exporter": "python",
   "pygments_lexer": "ipython3",
   "version": "3.9.13"
  }
 },
 "nbformat": 4,
 "nbformat_minor": 5
}
